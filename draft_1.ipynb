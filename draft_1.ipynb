{
 "cells": [
  {
   "cell_type": "code",
   "execution_count": 15,
   "metadata": {},
   "outputs": [],
   "source": [
    "import os\n",
    "import glob\n",
    "import re\n",
    "\n",
    "import numpy as np\n",
    "import matplotlib.pyplot as plt\n",
    "%matplotlib inline\n",
    "\n",
    "from PIL import Image, ImageDraw\n",
    "\n",
    "from skimage.draw import polygon, polygon2mask\n",
    "from skimage import io"
   ]
  },
  {
   "cell_type": "markdown",
   "metadata": {},
   "source": [
    "### Configuration"
   ]
  },
  {
   "cell_type": "code",
   "execution_count": 2,
   "metadata": {},
   "outputs": [],
   "source": [
    "data_path = 'sample/'\n",
    "target_size = (512, 512)"
   ]
  },
  {
   "cell_type": "code",
   "execution_count": 8,
   "metadata": {},
   "outputs": [],
   "source": [
    "imgs = glob.glob(data_path + '**\\\\*.png', recursive =True)"
   ]
  },
  {
   "cell_type": "code",
   "execution_count": 4,
   "metadata": {},
   "outputs": [
    {
     "data": {
      "text/plain": [
       "606"
      ]
     },
     "execution_count": 4,
     "metadata": {},
     "output_type": "execute_result"
    }
   ],
   "source": [
    "len(imgs)"
   ]
  },
  {
   "cell_type": "code",
   "execution_count": 4,
   "metadata": {},
   "outputs": [],
   "source": [
    "# glob.glob(data_path + '**\\\\*Tumor.txt', recursive =True)\n",
    "# cc = glob.glob(data_path + '**\\\\*CA_CHA.txt', recursive =True)\n",
    "# ps = glob.glob(data_path + '**\\\\*PV_SMV.txt', recursive =True)\n",
    "# sma = glob.glob(data_path + '**\\\\*SMA.txt', recursive =True)"
   ]
  },
  {
   "cell_type": "code",
   "execution_count": 9,
   "metadata": {},
   "outputs": [],
   "source": [
    "structs = {}\n",
    "\n",
    "structs['tumor'] = glob.glob(data_path + '**\\\\*Tumor.txt', recursive =True)\n",
    "structs['cc'] = glob.glob(data_path + '**\\\\*CA_CHA.txt', recursive =True)\n",
    "structs['ps'] = glob.glob(data_path + '**\\\\*PV_SMV.txt', recursive =True)\n",
    "structs['sma'] = glob.glob(data_path + '**\\\\*SMA.txt', recursive =True)"
   ]
  },
  {
   "cell_type": "code",
   "execution_count": 502,
   "metadata": {},
   "outputs": [
    {
     "data": {
      "text/plain": [
       "['sample\\\\Patient_1\\\\Set_1\\\\Slice_49_Region_1_Structure_Tumor.txt',\n",
       " 'sample\\\\Patient_1\\\\Set_1\\\\Slice_50_Region_1_Structure_Tumor.txt',\n",
       " 'sample\\\\Patient_1\\\\Set_1\\\\Slice_51_Region_1_Structure_Tumor.txt',\n",
       " 'sample\\\\Patient_1\\\\Set_1\\\\Slice_52_Region_1_Structure_Tumor.txt',\n",
       " 'sample\\\\Patient_1\\\\Set_1\\\\Slice_53_Region_1_Structure_Tumor.txt',\n",
       " 'sample\\\\Patient_1\\\\Set_1\\\\Slice_54_Region_1_Structure_Tumor.txt',\n",
       " 'sample\\\\Patient_1\\\\Set_1\\\\Slice_55_Region_1_Structure_Tumor.txt',\n",
       " 'sample\\\\Patient_1\\\\Set_1\\\\Slice_56_Region_1_Structure_Tumor.txt',\n",
       " 'sample\\\\Patient_1\\\\Set_1\\\\Slice_57_Region_1_Structure_Tumor.txt',\n",
       " 'sample\\\\Patient_1\\\\Set_1\\\\Slice_58_Region_1_Structure_Tumor.txt',\n",
       " 'sample\\\\Patient_1\\\\Set_1\\\\Slice_59_Region_1_Structure_Tumor.txt',\n",
       " 'sample\\\\Patient_1\\\\Set_1\\\\Slice_60_Region_1_Structure_Tumor.txt',\n",
       " 'sample\\\\Patient_1\\\\Set_1\\\\Slice_61_Region_1_Structure_Tumor.txt',\n",
       " 'sample\\\\Patient_1\\\\Set_1\\\\Slice_62_Region_1_Structure_Tumor.txt',\n",
       " 'sample\\\\Patient_1\\\\Set_1\\\\Slice_63_Region_1_Structure_Tumor.txt',\n",
       " 'sample\\\\Patient_1\\\\Set_1\\\\Slice_64_Region_1_Structure_Tumor.txt',\n",
       " 'sample\\\\Patient_1\\\\Set_1\\\\Slice_65_Region_1_Structure_Tumor.txt',\n",
       " 'sample\\\\Patient_1\\\\Set_1\\\\Slice_66_Region_1_Structure_Tumor.txt',\n",
       " 'sample\\\\Patient_1\\\\Set_1\\\\Slice_67_Region_1_Structure_Tumor.txt',\n",
       " 'sample\\\\Patient_1\\\\Set_1\\\\Slice_68_Region_1_Structure_Tumor.txt',\n",
       " 'sample\\\\Patient_1\\\\Set_1\\\\Slice_69_Region_1_Structure_Tumor.txt',\n",
       " 'sample\\\\Patient_1\\\\Set_1\\\\Slice_70_Region_1_Structure_Tumor.txt',\n",
       " 'sample\\\\Patient_1\\\\Set_1\\\\Slice_71_Region_1_Structure_Tumor.txt',\n",
       " 'sample\\\\Patient_1\\\\Set_1\\\\Slice_72_Region_1_Structure_Tumor.txt',\n",
       " 'sample\\\\Patient_1\\\\Set_1\\\\Slice_73_Region_1_Structure_Tumor.txt',\n",
       " 'sample\\\\Patient_1\\\\Set_1\\\\Slice_74_Region_1_Structure_Tumor.txt',\n",
       " 'sample\\\\Patient_1\\\\Set_1\\\\Slice_75_Region_1_Structure_Tumor.txt',\n",
       " 'sample\\\\Patient_1\\\\Set_1\\\\Slice_76_Region_1_Structure_Tumor.txt',\n",
       " 'sample\\\\Patient_1\\\\Set_1\\\\Slice_77_Region_1_Structure_Tumor.txt',\n",
       " 'sample\\\\Patient_1\\\\Set_1\\\\Slice_78_Region_1_Structure_Tumor.txt',\n",
       " 'sample\\\\Patient_1\\\\Set_1\\\\Slice_79_Region_1_Structure_Tumor.txt',\n",
       " 'sample\\\\Patient_1\\\\Set_1\\\\Slice_80_Region_1_Structure_Tumor.txt',\n",
       " 'sample\\\\Patient_1\\\\Set_1\\\\Slice_81_Region_1_Structure_Tumor.txt',\n",
       " 'sample\\\\Patient_1\\\\Set_1\\\\Slice_82_Region_1_Structure_Tumor.txt',\n",
       " 'sample\\\\Patient_1\\\\Set_1\\\\Slice_83_Region_1_Structure_Tumor.txt',\n",
       " 'sample\\\\Patient_1\\\\Set_1\\\\Slice_84_Region_1_Structure_Tumor.txt',\n",
       " 'sample\\\\Patient_1\\\\Set_1\\\\Slice_85_Region_1_Structure_Tumor.txt',\n",
       " 'sample\\\\Patient_1\\\\Set_1\\\\Slice_86_Region_1_Structure_Tumor.txt',\n",
       " 'sample\\\\Patient_1\\\\Set_1\\\\Slice_87_Region_1_Structure_Tumor.txt',\n",
       " 'sample\\\\Patient_1\\\\Set_1\\\\Slice_88_Region_1_Structure_Tumor.txt',\n",
       " 'sample\\\\Patient_10\\\\Set_1\\\\Slice_100_Region_1_Structure_Tumor.txt',\n",
       " 'sample\\\\Patient_10\\\\Set_1\\\\Slice_101_Region_1_Structure_Tumor.txt',\n",
       " 'sample\\\\Patient_10\\\\Set_1\\\\Slice_102_Region_1_Structure_Tumor.txt',\n",
       " 'sample\\\\Patient_10\\\\Set_1\\\\Slice_103_Region_1_Structure_Tumor.txt',\n",
       " 'sample\\\\Patient_10\\\\Set_1\\\\Slice_104_Region_1_Structure_Tumor.txt',\n",
       " 'sample\\\\Patient_10\\\\Set_1\\\\Slice_105_Region_1_Structure_Tumor.txt',\n",
       " 'sample\\\\Patient_10\\\\Set_1\\\\Slice_106_Region_1_Structure_Tumor.txt',\n",
       " 'sample\\\\Patient_10\\\\Set_1\\\\Slice_107_Region_1_Structure_Tumor.txt',\n",
       " 'sample\\\\Patient_10\\\\Set_1\\\\Slice_108_Region_1_Structure_Tumor.txt',\n",
       " 'sample\\\\Patient_10\\\\Set_1\\\\Slice_109_Region_1_Structure_Tumor.txt',\n",
       " 'sample\\\\Patient_10\\\\Set_1\\\\Slice_110_Region_1_Structure_Tumor.txt',\n",
       " 'sample\\\\Patient_10\\\\Set_1\\\\Slice_111_Region_1_Structure_Tumor.txt',\n",
       " 'sample\\\\Patient_10\\\\Set_1\\\\Slice_112_Region_1_Structure_Tumor.txt',\n",
       " 'sample\\\\Patient_10\\\\Set_1\\\\Slice_113_Region_1_Structure_Tumor.txt',\n",
       " 'sample\\\\Patient_10\\\\Set_1\\\\Slice_114_Region_1_Structure_Tumor.txt',\n",
       " 'sample\\\\Patient_10\\\\Set_1\\\\Slice_115_Region_1_Structure_Tumor.txt',\n",
       " 'sample\\\\Patient_10\\\\Set_1\\\\Slice_116_Region_1_Structure_Tumor.txt',\n",
       " 'sample\\\\Patient_10\\\\Set_1\\\\Slice_117_Region_1_Structure_Tumor.txt',\n",
       " 'sample\\\\Patient_10\\\\Set_1\\\\Slice_118_Region_1_Structure_Tumor.txt',\n",
       " 'sample\\\\Patient_10\\\\Set_1\\\\Slice_119_Region_1_Structure_Tumor.txt',\n",
       " 'sample\\\\Patient_10\\\\Set_1\\\\Slice_120_Region_1_Structure_Tumor.txt',\n",
       " 'sample\\\\Patient_10\\\\Set_1\\\\Slice_121_Region_1_Structure_Tumor.txt',\n",
       " 'sample\\\\Patient_10\\\\Set_1\\\\Slice_122_Region_1_Structure_Tumor.txt',\n",
       " 'sample\\\\Patient_10\\\\Set_1\\\\Slice_123_Region_1_Structure_Tumor.txt',\n",
       " 'sample\\\\Patient_10\\\\Set_1\\\\Slice_124_Region_1_Structure_Tumor.txt',\n",
       " 'sample\\\\Patient_101\\\\Set_2\\\\Slice_156_Region_1_Structure_Tumor.txt',\n",
       " 'sample\\\\Patient_101\\\\Set_2\\\\Slice_157_Region_1_Structure_Tumor.txt',\n",
       " 'sample\\\\Patient_101\\\\Set_2\\\\Slice_158_Region_1_Structure_Tumor.txt',\n",
       " 'sample\\\\Patient_101\\\\Set_2\\\\Slice_159_Region_1_Structure_Tumor.txt',\n",
       " 'sample\\\\Patient_101\\\\Set_2\\\\Slice_160_Region_1_Structure_Tumor.txt',\n",
       " 'sample\\\\Patient_101\\\\Set_2\\\\Slice_161_Region_1_Structure_Tumor.txt',\n",
       " 'sample\\\\Patient_101\\\\Set_2\\\\Slice_162_Region_1_Structure_Tumor.txt',\n",
       " 'sample\\\\Patient_101\\\\Set_2\\\\Slice_163_Region_1_Structure_Tumor.txt',\n",
       " 'sample\\\\Patient_101\\\\Set_2\\\\Slice_164_Region_1_Structure_Tumor.txt',\n",
       " 'sample\\\\Patient_101\\\\Set_2\\\\Slice_165_Region_1_Structure_Tumor.txt',\n",
       " 'sample\\\\Patient_101\\\\Set_2\\\\Slice_166_Region_1_Structure_Tumor.txt',\n",
       " 'sample\\\\Patient_101\\\\Set_2\\\\Slice_167_Region_1_Structure_Tumor.txt',\n",
       " 'sample\\\\Patient_101\\\\Set_2\\\\Slice_168_Region_1_Structure_Tumor.txt',\n",
       " 'sample\\\\Patient_101\\\\Set_2\\\\Slice_169_Region_1_Structure_Tumor.txt',\n",
       " 'sample\\\\Patient_101\\\\Set_2\\\\Slice_170_Region_1_Structure_Tumor.txt',\n",
       " 'sample\\\\Patient_101\\\\Set_2\\\\Slice_171_Region_1_Structure_Tumor.txt',\n",
       " 'sample\\\\Patient_101\\\\Set_2\\\\Slice_172_Region_1_Structure_Tumor.txt',\n",
       " 'sample\\\\Patient_101\\\\Set_2\\\\Slice_173_Region_1_Structure_Tumor.txt',\n",
       " 'sample\\\\Patient_101\\\\Set_2\\\\Slice_174_Region_1_Structure_Tumor.txt',\n",
       " 'sample\\\\Patient_101\\\\Set_2\\\\Slice_175_Region_1_Structure_Tumor.txt',\n",
       " 'sample\\\\Patient_101\\\\Set_2\\\\Slice_176_Region_1_Structure_Tumor.txt',\n",
       " 'sample\\\\Patient_101\\\\Set_2\\\\Slice_177_Region_1_Structure_Tumor.txt',\n",
       " 'sample\\\\Patient_101\\\\Set_2\\\\Slice_178_Region_1_Structure_Tumor.txt',\n",
       " 'sample\\\\Patient_101\\\\Set_2\\\\Slice_179_Region_1_Structure_Tumor.txt',\n",
       " 'sample\\\\Patient_101\\\\Set_2\\\\Slice_180_Region_1_Structure_Tumor.txt',\n",
       " 'sample\\\\Patient_101\\\\Set_2\\\\Slice_181_Region_1_Structure_Tumor.txt',\n",
       " 'sample\\\\Patient_101\\\\Set_2\\\\Slice_182_Region_1_Structure_Tumor.txt',\n",
       " 'sample\\\\Patient_101\\\\Set_2\\\\Slice_183_Region_1_Structure_Tumor.txt',\n",
       " 'sample\\\\Patient_101\\\\Set_2\\\\Slice_184_Region_1_Structure_Tumor.txt',\n",
       " 'sample\\\\Patient_101\\\\Set_2\\\\Slice_185_Region_1_Structure_Tumor.txt',\n",
       " 'sample\\\\Patient_101\\\\Set_2\\\\Slice_186_Region_1_Structure_Tumor.txt',\n",
       " 'sample\\\\Patient_101\\\\Set_2\\\\Slice_187_Region_1_Structure_Tumor.txt',\n",
       " 'sample\\\\Patient_101\\\\Set_2\\\\Slice_188_Region_1_Structure_Tumor.txt',\n",
       " 'sample\\\\Patient_101\\\\Set_2\\\\Slice_189_Region_1_Structure_Tumor.txt',\n",
       " 'sample\\\\Patient_101\\\\Set_2\\\\Slice_190_Region_1_Structure_Tumor.txt',\n",
       " 'sample\\\\Patient_101\\\\Set_2\\\\Slice_191_Region_1_Structure_Tumor.txt',\n",
       " 'sample\\\\Patient_101\\\\Set_2\\\\Slice_192_Region_1_Structure_Tumor.txt',\n",
       " 'sample\\\\Patient_101\\\\Set_2\\\\Slice_193_Region_1_Structure_Tumor.txt',\n",
       " 'sample\\\\Patient_101\\\\Set_2\\\\Slice_194_Region_1_Structure_Tumor.txt',\n",
       " 'sample\\\\Patient_101\\\\Set_2\\\\Slice_195_Region_1_Structure_Tumor.txt',\n",
       " 'sample\\\\Patient_101\\\\Set_2\\\\Slice_196_Region_1_Structure_Tumor.txt',\n",
       " 'sample\\\\Patient_101\\\\Set_2\\\\Slice_197_Region_1_Structure_Tumor.txt',\n",
       " 'sample\\\\Patient_101\\\\Set_2\\\\Slice_198_Region_1_Structure_Tumor.txt',\n",
       " 'sample\\\\Patient_101\\\\Set_2\\\\Slice_199_Region_1_Structure_Tumor.txt',\n",
       " 'sample\\\\Patient_101\\\\Set_2\\\\Slice_200_Region_1_Structure_Tumor.txt',\n",
       " 'sample\\\\Patient_101\\\\Set_2\\\\Slice_201_Region_1_Structure_Tumor.txt',\n",
       " 'sample\\\\Patient_101\\\\Set_2\\\\Slice_202_Region_1_Structure_Tumor.txt',\n",
       " 'sample\\\\Patient_101\\\\Set_2\\\\Slice_203_Region_1_Structure_Tumor.txt',\n",
       " 'sample\\\\Patient_101\\\\Set_2\\\\Slice_204_Region_1_Structure_Tumor.txt',\n",
       " 'sample\\\\Patient_101\\\\Set_2\\\\Slice_205_Region_1_Structure_Tumor.txt',\n",
       " 'sample\\\\Patient_101\\\\Set_2\\\\Slice_206_Region_1_Structure_Tumor.txt',\n",
       " 'sample\\\\Patient_101\\\\Set_2\\\\Slice_207_Region_1_Structure_Tumor.txt',\n",
       " 'sample\\\\Patient_101\\\\Set_2\\\\Slice_208_Region_1_Structure_Tumor.txt',\n",
       " 'sample\\\\Patient_101\\\\Set_2\\\\Slice_209_Region_1_Structure_Tumor.txt',\n",
       " 'sample\\\\Patient_101\\\\Set_2\\\\Slice_210_Region_1_Structure_Tumor.txt',\n",
       " 'sample\\\\Patient_101\\\\Set_2\\\\Slice_211_Region_1_Structure_Tumor.txt']"
      ]
     },
     "execution_count": 502,
     "metadata": {},
     "output_type": "execute_result"
    }
   ],
   "source": [
    "glob.glob(data_path + '**/*Tumor.txt', recursive =True)\n"
   ]
  },
  {
   "cell_type": "code",
   "execution_count": null,
   "metadata": {},
   "outputs": [],
   "source": []
  },
  {
   "cell_type": "code",
   "execution_count": null,
   "metadata": {},
   "outputs": [],
   "source": []
  },
  {
   "cell_type": "markdown",
   "metadata": {},
   "source": [
    "### PIL draw"
   ]
  },
  {
   "cell_type": "code",
   "execution_count": 211,
   "metadata": {},
   "outputs": [],
   "source": [
    "vertices = []\n",
    "with open(tumor[30]) as t:\n",
    "    for line in t:\n",
    "        vertices.append(tuple(map(int, re.findall(r'\\d+', line))))"
   ]
  },
  {
   "cell_type": "code",
   "execution_count": 21,
   "metadata": {},
   "outputs": [],
   "source": [
    "target_size = (512, 512)\n",
    "img = Image.new('L', target_size)\n",
    "ImageDraw.Draw(img).polygon(vertices, outline=1, fill=1)\n",
    "mask = np.array(img)"
   ]
  },
  {
   "cell_type": "code",
   "execution_count": 22,
   "metadata": {},
   "outputs": [
    {
     "data": {
      "text/plain": [
       "array([[0, 0, 0, ..., 0, 0, 0],\n",
       "       [0, 0, 0, ..., 0, 0, 0],\n",
       "       [0, 0, 0, ..., 0, 0, 0],\n",
       "       ...,\n",
       "       [0, 0, 0, ..., 0, 0, 0],\n",
       "       [0, 0, 0, ..., 0, 0, 0],\n",
       "       [0, 0, 0, ..., 0, 0, 0]], dtype=uint8)"
      ]
     },
     "execution_count": 22,
     "metadata": {},
     "output_type": "execute_result"
    }
   ],
   "source": [
    "mask"
   ]
  },
  {
   "cell_type": "code",
   "execution_count": 23,
   "metadata": {},
   "outputs": [
    {
     "data": {
      "image/png": "[encoded data removed]",
      "text/plain": [
       "<PIL.Image.Image image mode=L size=512x512 at 0x1C0AE3AA278>"
      ]
     },
     "execution_count": 23,
     "metadata": {},
     "output_type": "execute_result"
    }
   ],
   "source": [
    "img"
   ]
  },
  {
   "cell_type": "code",
   "execution_count": 178,
   "metadata": {},
   "outputs": [
    {
     "ename": "IndexError",
     "evalue": "too many indices for array: array is 0-dimensional, but 2 were indexed",
     "output_type": "error",
     "traceback": [
      "\u001b[1;31m---------------------------------------------------------------------------\u001b[0m",
      "\u001b[1;31mIndexError\u001b[0m                                Traceback (most recent call last)",
      "\u001b[1;32m<ipython-input-178-a1f5a425dc5f>\u001b[0m in \u001b[0;36m<module>\u001b[1;34m\u001b[0m\n\u001b[1;32m----> 1\u001b[1;33m \u001b[0mImage\u001b[0m\u001b[1;33m.\u001b[0m\u001b[0mfromarray\u001b[0m\u001b[1;33m(\u001b[0m\u001b[0mnp\u001b[0m\u001b[1;33m.\u001b[0m\u001b[0marray\u001b[0m\u001b[1;33m(\u001b[0m\u001b[0mimgs\u001b[0m\u001b[1;33m[\u001b[0m\u001b[1;36m98\u001b[0m\u001b[1;33m]\u001b[0m\u001b[1;33m)\u001b[0m\u001b[1;33m[\u001b[0m\u001b[0mmask\u001b[0m\u001b[1;33m]\u001b[0m\u001b[1;33m)\u001b[0m\u001b[1;33m\u001b[0m\u001b[1;33m\u001b[0m\u001b[0m\n\u001b[0m",
      "\u001b[1;31mIndexError\u001b[0m: too many indices for array: array is 0-dimensional, but 2 were indexed"
     ]
    }
   ],
   "source": [
    "Image.open(imgs[98][mask])"
   ]
  },
  {
   "cell_type": "code",
   "execution_count": 173,
   "metadata": {},
   "outputs": [
    {
     "data": {
      "text/plain": [
       "[98]"
      ]
     },
     "execution_count": 173,
     "metadata": {},
     "output_type": "execute_result"
    }
   ],
   "source": [
    "img_index = [i for i, x in enumerate(imgs) if x.startswith(tumor[17][:31])]"
   ]
  },
  {
   "cell_type": "code",
   "execution_count": 168,
   "metadata": {},
   "outputs": [
    {
     "data": {
      "text/plain": [
       "'sample\\\\Patient_1\\\\Set_1\\\\Slice_66_Region_1_Structure_Tumor.txt'"
      ]
     },
     "execution_count": 168,
     "metadata": {},
     "output_type": "execute_result"
    }
   ],
   "source": [
    "tumor[17]"
   ]
  },
  {
   "cell_type": "code",
   "execution_count": 171,
   "metadata": {},
   "outputs": [
    {
     "data": {
      "text/plain": [
       "31"
      ]
     },
     "execution_count": 171,
     "metadata": {},
     "output_type": "execute_result"
    }
   ],
   "source": [
    "len('sample\\\\Patient_1\\\\Set_1\\\\Slice_66')"
   ]
  },
  {
   "cell_type": "markdown",
   "metadata": {},
   "source": [
    "### Skimage polygon"
   ]
  },
  {
   "cell_type": "code",
   "execution_count": 10,
   "metadata": {},
   "outputs": [],
   "source": [
    "tumor = structs['tumor']"
   ]
  },
  {
   "cell_type": "code",
   "execution_count": 11,
   "metadata": {},
   "outputs": [],
   "source": [
    "vertices = []\n",
    "idx = 30\n",
    "with open(tumor[idx]) as t:\n",
    "    for line in t:\n",
    "        vertices.append(tuple(map(int, re.findall(r'\\d+', line))))"
   ]
  },
  {
   "cell_type": "code",
   "execution_count": 12,
   "metadata": {},
   "outputs": [],
   "source": [
    "img_idx = [i for i, x in enumerate(imgs) if x.startswith(tumor[idx][:31])][0]"
   ]
  },
  {
   "cell_type": "code",
   "execution_count": 17,
   "metadata": {},
   "outputs": [],
   "source": [
    "img = np.zeros(target_size, 'uint8')\n",
    "# vs = np.array([(30, 20), (50, 20), (70, 50), (50, 50), (20, 50)])\n",
    "mask = polygon2mask(target_size, vertices)#.T\n",
    "img[mask] = 255"
   ]
  },
  {
   "cell_type": "code",
   "execution_count": 18,
   "metadata": {},
   "outputs": [
    {
     "data": {
      "image/png": "[encoded data removed]",
      "text/plain": [
       "<PIL.Image.Image image mode=L size=512x512 at 0x1C24ED60080>"
      ]
     },
     "execution_count": 18,
     "metadata": {},
     "output_type": "execute_result"
    }
   ],
   "source": [
    "Image.fromarray(img)"
   ]
  },
  {
   "cell_type": "code",
   "execution_count": 275,
   "metadata": {},
   "outputs": [],
   "source": [
    "og_img = Image.open(imgs[img_idx]).convert('L')"
   ]
  },
  {
   "cell_type": "code",
   "execution_count": 276,
   "metadata": {},
   "outputs": [],
   "source": [
    "mask_img = np.array(og_img)"
   ]
  },
  {
   "cell_type": "code",
   "execution_count": 277,
   "metadata": {},
   "outputs": [],
   "source": [
    "mask_img[mask] = 0"
   ]
  },
  {
   "cell_type": "code",
   "execution_count": 278,
   "metadata": {},
   "outputs": [],
   "source": [
    "mask_img = Image.fromarray(mask_img)"
   ]
  },
  {
   "cell_type": "code",
   "execution_count": 279,
   "metadata": {},
   "outputs": [
    {
     "data": {
      "image/png": "[encoded data removed]",
      "text/plain": [
       "<Figure size 432x288 with 1 Axes>"
      ]
     },
     "metadata": {
      "needs_background": "light"
     },
     "output_type": "display_data"
    }
   ],
   "source": [
    "plot_image = np.concatenate((og_img, mask_img), axis=1)\n",
    "plt.imshow(plot_image)\n",
    "plt.show()"
   ]
  },
  {
   "cell_type": "code",
   "execution_count": 280,
   "metadata": {},
   "outputs": [],
   "source": [
    "# vertices = []\n",
    "# idx = 2\n",
    "# with open(tumor[idx]) as t:\n",
    "#     for line in t:\n",
    "#         vertices.append(tuple(map(int, re.findall(r'\\d+', line))))\n",
    "        \n",
    "# img_idx = [i for i, x in enumerate(imgs) if x.startswith(tumor[idx][:31])][0]\n",
    "\n",
    "img = np.zeros(target_size, 'uint8')\n",
    "# vs = np.array([(30, 20), (50, 20), (70, 50), (50, 50), (20, 50)])\n",
    "mask = polygon2mask(target_size, vertices).T\n",
    "img[mask] = 1\n",
    "\n",
    "og_img = Image.open(imgs[img_idx]).convert('L')\n",
    "\n",
    "mask_img = np.array(og_img)\n",
    "mask_img[mask] = 0\n",
    "mask_img = Image.fromarray(mask_img)"
   ]
  },
  {
   "cell_type": "code",
   "execution_count": 281,
   "metadata": {
    "scrolled": true
   },
   "outputs": [
    {
     "data": {
      "image/png": "[encoded data removed]",
      "text/plain": [
       "<PIL.Image.Image image mode=1 size=512x512 at 0x1C0B33E2E48>"
      ]
     },
     "execution_count": 281,
     "metadata": {},
     "output_type": "execute_result"
    }
   ],
   "source": [
    "Image.fromarray(mask)"
   ]
  },
  {
   "cell_type": "code",
   "execution_count": 282,
   "metadata": {},
   "outputs": [
    {
     "data": {
      "image/png": "[encoded data removed]",
      "text/plain": [
       "<Figure size 432x288 with 1 Axes>"
      ]
     },
     "metadata": {
      "needs_background": "light"
     },
     "output_type": "display_data"
    }
   ],
   "source": [
    "plot_image = np.concatenate((og_img, mask_img), axis=1)\n",
    "plt.imshow(plot_image)\n",
    "plt.show()"
   ]
  },
  {
   "cell_type": "code",
   "execution_count": null,
   "metadata": {},
   "outputs": [],
   "source": []
  },
  {
   "cell_type": "markdown",
   "metadata": {},
   "source": [
    "### mataching img and tumor index"
   ]
  },
  {
   "cell_type": "code",
   "execution_count": 283,
   "metadata": {},
   "outputs": [],
   "source": [
    "idx = 121"
   ]
  },
  {
   "cell_type": "code",
   "execution_count": 285,
   "metadata": {},
   "outputs": [
    {
     "data": {
      "text/plain": [
       "'sample\\\\Patient_1\\\\Set_1\\\\Slice_79_Region_1_Structure_Tumor.txt'"
      ]
     },
     "execution_count": 285,
     "metadata": {},
     "output_type": "execute_result"
    }
   ],
   "source": [
    "tumor[idx]"
   ]
  },
  {
   "cell_type": "code",
   "execution_count": 309,
   "metadata": {},
   "outputs": [
    {
     "data": {
      "text/plain": [
       "'sample\\\\Patient_1\\\\Set_1\\\\Slice_'"
      ]
     },
     "execution_count": 309,
     "metadata": {},
     "output_type": "execute_result"
    }
   ],
   "source": [
    "tumor[idx][:29]"
   ]
  },
  {
   "cell_type": "code",
   "execution_count": 314,
   "metadata": {},
   "outputs": [
    {
     "data": {
      "text/plain": [
       "'sample/'"
      ]
     },
     "execution_count": 314,
     "metadata": {},
     "output_type": "execute_result"
    }
   ],
   "source": [
    "data_path"
   ]
  },
  {
   "cell_type": "code",
   "execution_count": 325,
   "metadata": {},
   "outputs": [],
   "source": [
    "path = imgs[121]"
   ]
  },
  {
   "cell_type": "code",
   "execution_count": 357,
   "metadata": {},
   "outputs": [
    {
     "data": {
      "text/plain": [
       "['sample\\\\Patient', '1\\\\Set', '1\\\\Slice', '87', 'CT', 'Image.png']"
      ]
     },
     "execution_count": 357,
     "metadata": {},
     "output_type": "execute_result"
    }
   ],
   "source": [
    "path.split('_')"
   ]
  },
  {
   "cell_type": "code",
   "execution_count": 358,
   "metadata": {},
   "outputs": [],
   "source": [
    "pattern = re.compile(f'{idx}')"
   ]
  },
  {
   "cell_type": "code",
   "execution_count": 350,
   "metadata": {},
   "outputs": [
    {
     "data": {
      "text/plain": [
       "['sample\\\\Patient_1\\\\Set_1\\\\Slice_87_CT_Image.png',\n",
       " 'sample\\\\Patient_10\\\\Set_1\\\\Slice_187_CT_Image.png',\n",
       " 'sample\\\\Patient_10\\\\Set_1\\\\Slice_87_CT_Image.png',\n",
       " 'sample\\\\Patient_101\\\\Set_2\\\\Slice_187_CT_Image.png',\n",
       " 'sample\\\\Patient_101\\\\Set_2\\\\Slice_87_CT_Image.png']"
      ]
     },
     "execution_count": 350,
     "metadata": {},
     "output_type": "execute_result"
    }
   ],
   "source": [
    "[x for x in imgs if path.split('\\\\')[3].split('_')[1] in x]"
   ]
  },
  {
   "cell_type": "code",
   "execution_count": 391,
   "metadata": {},
   "outputs": [
    {
     "data": {
      "text/plain": [
       "'Slice_128'"
      ]
     },
     "execution_count": 391,
     "metadata": {},
     "output_type": "execute_result"
    }
   ],
   "source": [
    "re.findall(r'Slice_\\d+', path)[-1]"
   ]
  },
  {
   "cell_type": "code",
   "execution_count": 403,
   "metadata": {},
   "outputs": [
    {
     "ename": "AttributeError",
     "evalue": "'_sre.SRE_Match' object has no attribute 'match'",
     "output_type": "error",
     "traceback": [
      "\u001b[1;31m---------------------------------------------------------------------------\u001b[0m",
      "\u001b[1;31mAttributeError\u001b[0m                            Traceback (most recent call last)",
      "\u001b[1;32m<ipython-input-403-828c42566dbc>\u001b[0m in \u001b[0;36m<module>\u001b[1;34m\u001b[0m\n\u001b[1;32m----> 1\u001b[1;33m \u001b[0mre\u001b[0m\u001b[1;33m.\u001b[0m\u001b[0msearch\u001b[0m\u001b[1;33m(\u001b[0m\u001b[1;34mr'Slice_\\d+'\u001b[0m\u001b[1;33m,\u001b[0m \u001b[0mpath\u001b[0m\u001b[1;33m)\u001b[0m\u001b[1;33m.\u001b[0m\u001b[0mmatch\u001b[0m\u001b[1;33m(\u001b[0m\u001b[1;33m)\u001b[0m\u001b[1;33m\u001b[0m\u001b[1;33m\u001b[0m\u001b[0m\n\u001b[0m",
      "\u001b[1;31mAttributeError\u001b[0m: '_sre.SRE_Match' object has no attribute 'match'"
     ]
    }
   ],
   "source": [
    "re.search(r'Slice_\\d+', path)"
   ]
  },
  {
   "cell_type": "code",
   "execution_count": 382,
   "metadata": {},
   "outputs": [
    {
     "data": {
      "text/plain": [
       "['Slice', '128', 'CT', 'Image.png']"
      ]
     },
     "execution_count": 382,
     "metadata": {},
     "output_type": "execute_result"
    }
   ],
   "source": [
    "path.split('\\\\')[-1].split('_')"
   ]
  },
  {
   "cell_type": "code",
   "execution_count": 396,
   "metadata": {},
   "outputs": [
    {
     "data": {
      "text/plain": [
       "['sample\\\\Patient_1\\\\Set_1\\\\Slice_128_CT_Image.png']"
      ]
     },
     "execution_count": 396,
     "metadata": {},
     "output_type": "execute_result"
    }
   ],
   "source": [
    "# pattern = re.compile(rf\"{path.split('\\\\')[0]}\\\\{path.split('\\\\')[1]}\\\\{path.split('\\\\')[2]}\\\\{path.split('\\\\')[3].split('_')[0]}\\\\{path.split('\\\\')[3].split('_')[1]}\")\n",
    "# pattern = re.compile(rf'{path.split('\\\\')[0]}\\\\')\n",
    "path = imgs[idx]\n",
    "path_collection = imgs\n",
    "\n",
    "slice_idx = re.findall(r'Slice_\\d+', path)[0]\n",
    "# pattern = re.compile(rf'Slice_{slice_idx}')\n",
    "[x for x in path_collection if x.startswith(os.path.join(*path.split('\\\\')[:3])) \n",
    " and slice_idx in x]"
   ]
  },
  {
   "cell_type": "code",
   "execution_count": 378,
   "metadata": {},
   "outputs": [
    {
     "data": {
      "text/plain": [
       "'sample\\\\Patient_1\\\\Set_1'"
      ]
     },
     "execution_count": 378,
     "metadata": {},
     "output_type": "execute_result"
    }
   ],
   "source": [
    "os.path.join(*imgs[idx].split('\\\\')[:3])\n",
    "# imgs[idx].split('\\\\')[:3]"
   ]
  },
  {
   "cell_type": "code",
   "execution_count": null,
   "metadata": {},
   "outputs": [],
   "source": [
    "pattern = re.compile(r'\\w+')"
   ]
  },
  {
   "cell_type": "code",
   "execution_count": null,
   "metadata": {},
   "outputs": [],
   "source": [
    "results = re.findall(pattern, )"
   ]
  },
  {
   "cell_type": "code",
   "execution_count": 284,
   "metadata": {},
   "outputs": [
    {
     "data": {
      "text/plain": [
       "'sample\\\\Patient_1\\\\Set_1\\\\Slice_79_Region_1_Structure_Tumor.txt'"
      ]
     },
     "execution_count": 284,
     "metadata": {},
     "output_type": "execute_result"
    }
   ],
   "source": [
    "[i for i, x in enumerate if r'\\w+' in imgs]"
   ]
  },
  {
   "cell_type": "code",
   "execution_count": null,
   "metadata": {},
   "outputs": [],
   "source": []
  },
  {
   "cell_type": "code",
   "execution_count": 323,
   "metadata": {},
   "outputs": [],
   "source": [
    "img_idx = [i for i, x in enumerate(imgs) if x.startswith(tumor[idx][:31])][0]"
   ]
  },
  {
   "cell_type": "code",
   "execution_count": 324,
   "metadata": {},
   "outputs": [
    {
     "data": {
      "text/plain": [
       "112"
      ]
     },
     "execution_count": 324,
     "metadata": {},
     "output_type": "execute_result"
    }
   ],
   "source": [
    "img_idx"
   ]
  },
  {
   "cell_type": "code",
   "execution_count": 295,
   "metadata": {},
   "outputs": [
    {
     "name": "stdout",
     "output_type": "stream",
     "text": [
      "e\n"
     ]
    }
   ],
   "source": []
  },
  {
   "cell_type": "code",
   "execution_count": null,
   "metadata": {},
   "outputs": [],
   "source": [
    "path = imgs[idx]\n",
    "\n",
    "# structs = {}\n",
    "\n",
    "# structs['tumor'] = glob.glob(data_path + '**\\\\*Tumor.txt', recursive =True)\n",
    "# structs['cc'] = glob.glob(data_path + '**\\\\*CA_CHA.txt', recursive =True)\n",
    "# structs['ps'] = glob.glob(data_path + '**\\\\*PV_SMV.txt', recursive =True)\n",
    "# structs['sma'] = glob.glob(data_path + '**\\\\*SMA.txt', recursive =True)\n",
    "\n",
    "def mask_generator(path, structs, target_size):\n",
    "    \n",
    "    #create a empty mask(zeros) number of channels corresponding to the n_classes\n",
    "    mask = np.zeros((target_size, len(structs))\n",
    "    path_collection = imgs\n",
    "\n",
    "    slice_idx = re.findall(r'Slice_\\d+', path)[0]\n",
    "    found = [x for x in path_collection if x.startswith(os.path.join(*path.split('\\\\')[:3])) \n",
    "     and slice_idx in x]\n",
    "\n",
    "    if found:\n",
    "        #corresponding \n",
    "  \n",
    "        "
   ]
  },
  {
   "cell_type": "code",
   "execution_count": 410,
   "metadata": {},
   "outputs": [
    {
     "name": "stdout",
     "output_type": "stream",
     "text": [
      "0 : tumor\n",
      "1 : cc\n",
      "2 : ps\n",
      "3 : sma\n"
     ]
    }
   ],
   "source": [
    "for i, s in enumerate(structs):\n",
    "    print(f'{i} : {s}')"
   ]
  },
  {
   "cell_type": "code",
   "execution_count": 411,
   "metadata": {},
   "outputs": [
    {
     "data": {
      "text/plain": [
       "4"
      ]
     },
     "execution_count": 411,
     "metadata": {},
     "output_type": "execute_result"
    }
   ],
   "source": [
    "len(structs)"
   ]
  },
  {
   "cell_type": "code",
   "execution_count": 416,
   "metadata": {},
   "outputs": [
    {
     "data": {
      "text/plain": [
       "array([[0., 0., 0., 0.],\n",
       "       [0., 0., 0., 0.]])"
      ]
     },
     "execution_count": 416,
     "metadata": {},
     "output_type": "execute_result"
    }
   ],
   "source": [
    "np.zeros((2, 4))"
   ]
  },
  {
   "cell_type": "code",
   "execution_count": null,
   "metadata": {},
   "outputs": [],
   "source": []
  },
  {
   "cell_type": "code",
   "execution_count": null,
   "metadata": {},
   "outputs": [],
   "source": []
  },
  {
   "cell_type": "code",
   "execution_count": 419,
   "metadata": {},
   "outputs": [],
   "source": [
    "meta = glob.glob(data_path + '**\\\\CT_Image.txt', recursive =True)\n",
    "center = glob.glob(data_path + '**\\\\Structure_Tumor_CenterPixel.txt', recursive =True)"
   ]
  },
  {
   "cell_type": "code",
   "execution_count": 492,
   "metadata": {},
   "outputs": [],
   "source": [
    "c_dict = {}\n",
    "\n",
    "for c in center:\n",
    "    \n",
    "    with open(c) as infile:\n",
    "        line = infile.readline()\n",
    "        c_point = line.split()[-1]\n",
    "        \n",
    "    path = c\n",
    "    \n",
    "    c_min = 999\n",
    "    c_max = 0\n",
    "    c_range = (0, 0, 0)\n",
    "    for s in structs:\n",
    "        \n",
    "\n",
    "        found = [x for x in structs[s] if x.startswith(os.path.join(*path.split('\\\\')[:3]))]\n",
    "        \n",
    "        for f in found:\n",
    "            slice_idx = re.findall(r'Slice_\\d+', f)[0]\n",
    "            ss = int(slice_idx[6:])\n",
    "            c_min = ss if ss<c_min else c_min\n",
    "            c_max = ss if ss>c_max else c_max \n",
    "    \n",
    "#         old_range = c_range[1] - c_range[0]\n",
    "    c_range = (c_min, c_max, c_max - c_min)\n",
    "    c_dict[c_point] = c_range"
   ]
  },
  {
   "cell_type": "code",
   "execution_count": 493,
   "metadata": {},
   "outputs": [
    {
     "name": "stdout",
     "output_type": "stream",
     "text": [
      "{'67.3185593975523': (31, 136, 105), '111.223250406474': (96, 180, 84), '181.7753147589': (137, 211, 74)}\n"
     ]
    }
   ],
   "source": [
    "print(c_dict)"
   ]
  },
  {
   "cell_type": "code",
   "execution_count": 466,
   "metadata": {},
   "outputs": [
    {
     "data": {
      "text/plain": [
       "'2'"
      ]
     },
     "execution_count": 466,
     "metadata": {},
     "output_type": "execute_result"
    }
   ],
   "source": [
    "'Slice_2'[6:]"
   ]
  },
  {
   "cell_type": "code",
   "execution_count": 477,
   "metadata": {},
   "outputs": [
    {
     "data": {
      "text/plain": [
       "1"
      ]
     },
     "execution_count": 477,
     "metadata": {},
     "output_type": "execute_result"
    }
   ],
   "source": [
    "(1, 2)[0]"
   ]
  },
  {
   "cell_type": "code",
   "execution_count": null,
   "metadata": {},
   "outputs": [],
   "source": []
  }
 ],
 "metadata": {
  "kernelspec": {
   "display_name": "Python 3",
   "language": "python",
   "name": "python3"
  },
  "language_info": {
   "codemirror_mode": {
    "name": "ipython",
    "version": 3
   },
   "file_extension": ".py",
   "mimetype": "text/x-python",
   "name": "python",
   "nbconvert_exporter": "python",
   "pygments_lexer": "ipython3",
   "version": "3.6.9"
  }
 },
 "nbformat": 4,
 "nbformat_minor": 2
}
